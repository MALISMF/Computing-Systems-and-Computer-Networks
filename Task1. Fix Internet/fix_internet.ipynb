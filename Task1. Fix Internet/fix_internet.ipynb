{
  "nbformat": 4,
  "nbformat_minor": 0,
  "metadata": {
    "colab": {
      "provenance": []
    },
    "kernelspec": {
      "name": "python3",
      "display_name": "Python 3"
    },
    "language_info": {
      "name": "python"
    }
  },
  "cells": [
    {
      "cell_type": "code",
      "source": [
        "with open(\"graph.txt\", \"r\", encoding=\"utf-8\") as f:\n",
        "    lines = [line.strip() for line in f if line.strip()]\n",
        "\n",
        "N = int(lines[0])\n",
        "\n",
        "graph = [[] for _ in range(N + 1)]\n",
        "\n",
        "for line in lines[1:]:\n",
        "    u, v = map(int, line.split())\n",
        "    graph[u].append(v)\n",
        "    graph[v].append(u)\n",
        "\n",
        "# Сортируем списки соседей\n",
        "for u in range(1, N+1):\n",
        "    graph[u].sort()\n",
        "\n",
        "visited = [False] * (N + 1)\n",
        "islands = 0\n",
        "\n",
        "def dfs(u):\n",
        "    visited[u] = True\n",
        "    for v in graph[u]:\n",
        "        if not visited[v]:\n",
        "            dfs(v)\n",
        "\n",
        "# Запускаем DFS из каждой непосещённой вершины\n",
        "for start_v in range(1, N + 1):\n",
        "    if not visited[start_v]:\n",
        "        dfs(start_v)\n",
        "        islands += 1\n",
        "\n",
        "nodes = islands - 1 #Количество рёбер для связности графа (кол-во островков - 1)\n",
        "\n",
        "print(f\"Кол-во ребер для связности графа: {nodes}\")\n",
        "\n"
      ],
      "metadata": {
        "id": "24NWx-yJe4KU"
      },
      "execution_count": null,
      "outputs": []
    },
    {
      "cell_type": "code",
      "source": [
        "#Кол-во ребер для связности графа: 82"
      ],
      "metadata": {
        "id": "4mTBB64ShZuB"
      },
      "execution_count": null,
      "outputs": []
    }
  ]
}